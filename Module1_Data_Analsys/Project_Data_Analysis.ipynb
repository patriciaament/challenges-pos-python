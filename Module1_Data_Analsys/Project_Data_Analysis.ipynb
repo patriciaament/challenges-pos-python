{
 "cells": [
  {
   "cell_type": "markdown",
   "id": "a21d9d6a-5067-4f58-be19-aaa52eb998db",
   "metadata": {},
   "source": [
    "# Projeto: Banco FinanceX\n",
    "<hr>\n",
    "\n",
    "#### Respondendo a perguntas de negócio com base na exploração e análise de dados <br>"
   ]
  },
  {
   "cell_type": "code",
   "execution_count": 1,
   "id": "9fdbbc97-42be-4a89-9a66-082a24f78bbc",
   "metadata": {},
   "outputs": [],
   "source": [
    "import pandas as pd\n",
    "import numpy as np"
   ]
  },
  {
   "cell_type": "code",
   "execution_count": 2,
   "id": "e4c19a23-a953-4a0a-a96a-d807c7873c5a",
   "metadata": {},
   "outputs": [],
   "source": [
    "df_vendas_original = pd.read_csv(\"./vendas_produtos_financeiros.csv\", delimiter=\";\")"
   ]
  },
  {
   "cell_type": "markdown",
   "id": "eef59438-81ad-4754-8c22-1d8ba325f170",
   "metadata": {},
   "source": [
    "> #### Iniciando exploração do dataset"
   ]
  },
  {
   "cell_type": "code",
   "execution_count": 3,
   "id": "2415d47a-f102-480a-bbb7-e2b544596d56",
   "metadata": {},
   "outputs": [
    {
     "data": {
      "text/html": [
       "<div>\n",
       "<style scoped>\n",
       "    .dataframe tbody tr th:only-of-type {\n",
       "        vertical-align: middle;\n",
       "    }\n",
       "\n",
       "    .dataframe tbody tr th {\n",
       "        vertical-align: top;\n",
       "    }\n",
       "\n",
       "    .dataframe thead th {\n",
       "        text-align: right;\n",
       "    }\n",
       "</style>\n",
       "<table border=\"1\" class=\"dataframe\">\n",
       "  <thead>\n",
       "    <tr style=\"text-align: right;\">\n",
       "      <th></th>\n",
       "      <th>Produto</th>\n",
       "      <th>Quantidade</th>\n",
       "      <th>Preco_Unitario</th>\n",
       "      <th>Valor_Total</th>\n",
       "      <th>Data</th>\n",
       "      <th>Estado</th>\n",
       "    </tr>\n",
       "  </thead>\n",
       "  <tbody>\n",
       "    <tr>\n",
       "      <th>0</th>\n",
       "      <td>Produto 10</td>\n",
       "      <td>5</td>\n",
       "      <td>6.03</td>\n",
       "      <td>30.15</td>\n",
       "      <td>05/10/2023 10:03</td>\n",
       "      <td>RS</td>\n",
       "    </tr>\n",
       "    <tr>\n",
       "      <th>1</th>\n",
       "      <td>Produto 2</td>\n",
       "      <td>9</td>\n",
       "      <td>20.48</td>\n",
       "      <td>184.32</td>\n",
       "      <td>17/03/2023 14:03</td>\n",
       "      <td>RJ</td>\n",
       "    </tr>\n",
       "    <tr>\n",
       "      <th>2</th>\n",
       "      <td>Produto 5</td>\n",
       "      <td>3</td>\n",
       "      <td>25.39</td>\n",
       "      <td>76.17</td>\n",
       "      <td>20/04/2023 09:03</td>\n",
       "      <td>BA</td>\n",
       "    </tr>\n",
       "    <tr>\n",
       "      <th>3</th>\n",
       "      <td>Produto 6</td>\n",
       "      <td>3</td>\n",
       "      <td>10.73</td>\n",
       "      <td>32.19</td>\n",
       "      <td>21/09/2023 15:03</td>\n",
       "      <td>AM</td>\n",
       "    </tr>\n",
       "    <tr>\n",
       "      <th>4</th>\n",
       "      <td>Produto 8</td>\n",
       "      <td>4</td>\n",
       "      <td>34.67</td>\n",
       "      <td>138.68</td>\n",
       "      <td>04/09/2023 01:03</td>\n",
       "      <td>SP</td>\n",
       "    </tr>\n",
       "  </tbody>\n",
       "</table>\n",
       "</div>"
      ],
      "text/plain": [
       "      Produto  Quantidade  Preco_Unitario  Valor_Total              Data  \\\n",
       "0  Produto 10           5            6.03        30.15  05/10/2023 10:03   \n",
       "1   Produto 2           9           20.48       184.32  17/03/2023 14:03   \n",
       "2   Produto 5           3           25.39        76.17  20/04/2023 09:03   \n",
       "3   Produto 6           3           10.73        32.19  21/09/2023 15:03   \n",
       "4   Produto 8           4           34.67       138.68  04/09/2023 01:03   \n",
       "\n",
       "  Estado  \n",
       "0     RS  \n",
       "1     RJ  \n",
       "2     BA  \n",
       "3     AM  \n",
       "4     SP  "
      ]
     },
     "execution_count": 3,
     "metadata": {},
     "output_type": "execute_result"
    }
   ],
   "source": [
    "df_vendas_original.head()"
   ]
  },
  {
   "cell_type": "code",
   "execution_count": 4,
   "id": "38841274-47db-4a74-a02b-df344a95b6e3",
   "metadata": {},
   "outputs": [
    {
     "name": "stdout",
     "output_type": "stream",
     "text": [
      "<class 'pandas.core.frame.DataFrame'>\n",
      "RangeIndex: 2031 entries, 0 to 2030\n",
      "Data columns (total 6 columns):\n",
      " #   Column          Non-Null Count  Dtype  \n",
      "---  ------          --------------  -----  \n",
      " 0   Produto         2026 non-null   object \n",
      " 1   Quantidade      2031 non-null   int64  \n",
      " 2   Preco_Unitario  2019 non-null   float64\n",
      " 3   Valor_Total     2021 non-null   float64\n",
      " 4   Data            2031 non-null   object \n",
      " 5   Estado          2031 non-null   object \n",
      "dtypes: float64(2), int64(1), object(3)\n",
      "memory usage: 95.3+ KB\n"
     ]
    }
   ],
   "source": [
    "df_vendas_original.info()"
   ]
  },
  {
   "cell_type": "code",
   "execution_count": 5,
   "id": "cc41307d-1f51-4a03-ba0c-a11cd4d50e3e",
   "metadata": {},
   "outputs": [
    {
     "data": {
      "text/html": [
       "<div>\n",
       "<style scoped>\n",
       "    .dataframe tbody tr th:only-of-type {\n",
       "        vertical-align: middle;\n",
       "    }\n",
       "\n",
       "    .dataframe tbody tr th {\n",
       "        vertical-align: top;\n",
       "    }\n",
       "\n",
       "    .dataframe thead th {\n",
       "        text-align: right;\n",
       "    }\n",
       "</style>\n",
       "<table border=\"1\" class=\"dataframe\">\n",
       "  <thead>\n",
       "    <tr style=\"text-align: right;\">\n",
       "      <th></th>\n",
       "      <th>Quantidade</th>\n",
       "      <th>Preco_Unitario</th>\n",
       "      <th>Valor_Total</th>\n",
       "    </tr>\n",
       "  </thead>\n",
       "  <tbody>\n",
       "    <tr>\n",
       "      <th>count</th>\n",
       "      <td>2031.000000</td>\n",
       "      <td>2019.000000</td>\n",
       "      <td>2021.000000</td>\n",
       "    </tr>\n",
       "    <tr>\n",
       "      <th>mean</th>\n",
       "      <td>5.466273</td>\n",
       "      <td>21.126612</td>\n",
       "      <td>114.736388</td>\n",
       "    </tr>\n",
       "    <tr>\n",
       "      <th>std</th>\n",
       "      <td>2.842971</td>\n",
       "      <td>10.492021</td>\n",
       "      <td>87.156235</td>\n",
       "    </tr>\n",
       "    <tr>\n",
       "      <th>min</th>\n",
       "      <td>1.000000</td>\n",
       "      <td>-0.920000</td>\n",
       "      <td>-3.680000</td>\n",
       "    </tr>\n",
       "    <tr>\n",
       "      <th>25%</th>\n",
       "      <td>3.000000</td>\n",
       "      <td>11.940000</td>\n",
       "      <td>46.780000</td>\n",
       "    </tr>\n",
       "    <tr>\n",
       "      <th>50%</th>\n",
       "      <td>5.000000</td>\n",
       "      <td>19.660000</td>\n",
       "      <td>91.560000</td>\n",
       "    </tr>\n",
       "    <tr>\n",
       "      <th>75%</th>\n",
       "      <td>8.000000</td>\n",
       "      <td>28.165000</td>\n",
       "      <td>161.940000</td>\n",
       "    </tr>\n",
       "    <tr>\n",
       "      <th>max</th>\n",
       "      <td>10.000000</td>\n",
       "      <td>52.040000</td>\n",
       "      <td>477.400000</td>\n",
       "    </tr>\n",
       "  </tbody>\n",
       "</table>\n",
       "</div>"
      ],
      "text/plain": [
       "        Quantidade  Preco_Unitario  Valor_Total\n",
       "count  2031.000000     2019.000000  2021.000000\n",
       "mean      5.466273       21.126612   114.736388\n",
       "std       2.842971       10.492021    87.156235\n",
       "min       1.000000       -0.920000    -3.680000\n",
       "25%       3.000000       11.940000    46.780000\n",
       "50%       5.000000       19.660000    91.560000\n",
       "75%       8.000000       28.165000   161.940000\n",
       "max      10.000000       52.040000   477.400000"
      ]
     },
     "execution_count": 5,
     "metadata": {},
     "output_type": "execute_result"
    }
   ],
   "source": [
    "df_vendas_original.describe()"
   ]
  },
  {
   "cell_type": "code",
   "execution_count": 6,
   "id": "3138bddd-9cc6-43dc-99ab-e025e796fdf8",
   "metadata": {},
   "outputs": [
    {
     "data": {
      "text/plain": [
       "(2031, 6)"
      ]
     },
     "execution_count": 6,
     "metadata": {},
     "output_type": "execute_result"
    }
   ],
   "source": [
    "df_vendas_original.shape"
   ]
  },
  {
   "cell_type": "markdown",
   "id": "e9c2e166-0d1f-45ce-a35a-38b5266568b6",
   "metadata": {},
   "source": [
    "### Pergunta 1:\n",
    "Existem valores ausentes no dataset coletado?"
   ]
  },
  {
   "cell_type": "code",
   "execution_count": 7,
   "id": "92396308-7c70-4311-8b28-9990eba470f0",
   "metadata": {},
   "outputs": [
    {
     "name": "stdout",
     "output_type": "stream",
     "text": [
      "Produto            5\n",
      "Quantidade         0\n",
      "Preco_Unitario    12\n",
      "Valor_Total       10\n",
      "Data               0\n",
      "Estado             0\n",
      "dtype: int64\n"
     ]
    }
   ],
   "source": [
    "print(df_vendas_original.isna().sum())"
   ]
  },
  {
   "cell_type": "markdown",
   "id": "ff0c9ce4-82fe-40a6-aa26-f0025aae10b0",
   "metadata": {},
   "source": [
    "### Pergunta 2:\n",
    "O dataset coletado possui algum registro duplicado?"
   ]
  },
  {
   "cell_type": "code",
   "execution_count": 8,
   "id": "968ac415-85ba-4490-bca9-ede28d04abcb",
   "metadata": {},
   "outputs": [
    {
     "name": "stdout",
     "output_type": "stream",
     "text": [
      "O dataset possui: 31 registros duplicados.\n"
     ]
    }
   ],
   "source": [
    "print(\"O dataset possui:\", df_vendas_original.duplicated().sum(), \"registros duplicados.\")"
   ]
  },
  {
   "cell_type": "markdown",
   "id": "896e9068-6f60-4948-b370-07fbe6d19efb",
   "metadata": {},
   "source": [
    "> Para responder as próximas perguntas será realizado o tratamento dos dados ausentes conforme orientação dada no projeto: </br>1. Para dados os dados categóricos, utilize a estratégia de exclusão dos dados.<br>\n",
    "    2. Para os dados numéricos, utilize:<br>\n",
    "        a. Regra do negócio para corrigi-los.</br>\n",
    "        b. Você pode corrigir os dados de diversos métodos: Where, mask, fillna.</br>\n",
    "            i. Escolha o melhor método de sua preferência.</br>\n",
    "        c. Atenção para a correção baseada na regra.</br>\n",
    "            i. Ex.: Valor total da venda = Quantidade unitária * Preço do produto</br>\n",
    "            ii. Utilize os próprios dados para fazer a correção.</br>\n"
   ]
  },
  {
   "cell_type": "code",
   "execution_count": 10,
   "id": "42f5b141-bdab-49b0-8edf-05e3e1c4cf93",
   "metadata": {},
   "outputs": [],
   "source": [
    "#Exclusão dos dados categóricos\n",
    "df_clean_product = df_vendas_original.dropna(subset=['Produto'])"
   ]
  },
  {
   "cell_type": "code",
   "execution_count": 11,
   "id": "33f97bd3-6554-451c-ae63-35cdc8daeef5",
   "metadata": {},
   "outputs": [
    {
     "name": "stdout",
     "output_type": "stream",
     "text": [
      "Produto            0\n",
      "Quantidade         0\n",
      "Preco_Unitario    12\n",
      "Valor_Total        9\n",
      "Data               0\n",
      "Estado             0\n",
      "dtype: int64\n"
     ]
    }
   ],
   "source": [
    "print(df_clean_product.isna().sum())"
   ]
  },
  {
   "cell_type": "code",
   "execution_count": 12,
   "id": "3718c428-4586-4361-b842-6d757b97f471",
   "metadata": {},
   "outputs": [],
   "source": [
    "#Tratamento dos dados númericos: aplicada a média dos valores nos dados ausentes de Preco_Unitario e realizdo o calculo para preenchimento do Valor_Total\n",
    "df_clean_final = df_clean_product.fillna({'Preco_Unitario': df_clean_product['Preco_Unitario'].mean(), 'Valor_Total': df_clean_product['Quantidade'] * df_clean_product['Preco_Unitario']})"
   ]
  },
  {
   "cell_type": "code",
   "execution_count": 13,
   "id": "566ece77-a291-43c1-b42a-e900d4156520",
   "metadata": {
    "scrolled": true
   },
   "outputs": [
    {
     "name": "stdout",
     "output_type": "stream",
     "text": [
      "Produto           0\n",
      "Quantidade        0\n",
      "Preco_Unitario    0\n",
      "Valor_Total       0\n",
      "Data              0\n",
      "Estado            0\n",
      "dtype: int64\n"
     ]
    }
   ],
   "source": [
    "#Todos os valores ausentes foram preenchidos\n",
    "print(df_clean_final.isna().sum())"
   ]
  },
  {
   "cell_type": "markdown",
   "id": "e1dd76ab-b98e-44e7-ad4f-4648331f46f8",
   "metadata": {},
   "source": [
    "### Pergunta 3:\n",
    "Qual é a média do valor das vendas de todos os produtos destinados ao Estado de São Paulo (SP)?"
   ]
  },
  {
   "cell_type": "code",
   "execution_count": 14,
   "id": "43f8435e-b97f-4340-a921-069af490ecd2",
   "metadata": {},
   "outputs": [],
   "source": [
    "df_grouped_estate_sp = df_clean_final[df_clean_final['Estado'] == 'SP'].groupby('Estado')"
   ]
  },
  {
   "cell_type": "code",
   "execution_count": 15,
   "id": "80203c4b-2bda-4731-8155-6ed9378f71ee",
   "metadata": {},
   "outputs": [],
   "source": [
    "df_grouped_estate_final = df_grouped_estate_sp['Valor_Total'].mean()"
   ]
  },
  {
   "cell_type": "code",
   "execution_count": 16,
   "id": "fad08420-cd8c-4911-8f94-8f24e16d9b94",
   "metadata": {},
   "outputs": [
    {
     "name": "stdout",
     "output_type": "stream",
     "text": [
      "A média das vendas realizadas no Estado de São Paulo é: \n",
      " Estado\n",
      "SP    111.57\n",
      "Name: Valor_Total, dtype: float64\n"
     ]
    }
   ],
   "source": [
    "print(\"A média das vendas realizadas no Estado de São Paulo é: \\n\", df_grouped_estate_final.round(2))"
   ]
  },
  {
   "cell_type": "markdown",
   "id": "5d991896-c4c1-4186-8101-6099974687de",
   "metadata": {},
   "source": [
    "### Pergunta 4:\n",
    "Qual é o desvio padrão da quantidade unitária para todos os produtos vendidos no Estado de Pernambuco (PE)?"
   ]
  },
  {
   "cell_type": "code",
   "execution_count": 17,
   "id": "26f98b94-bbcd-457f-a669-01030d897d39",
   "metadata": {},
   "outputs": [],
   "source": [
    "df_grouped_estate_pe = df_clean_final[df_clean_final['Estado'] == 'PE'].groupby('Estado')"
   ]
  },
  {
   "cell_type": "code",
   "execution_count": 18,
   "id": "4f022307-932f-43bf-92c7-1d6b1e20901f",
   "metadata": {
    "scrolled": true
   },
   "outputs": [
    {
     "data": {
      "text/html": [
       "<div>\n",
       "<style scoped>\n",
       "    .dataframe tbody tr th:only-of-type {\n",
       "        vertical-align: middle;\n",
       "    }\n",
       "\n",
       "    .dataframe tbody tr th {\n",
       "        vertical-align: top;\n",
       "    }\n",
       "\n",
       "    .dataframe thead th {\n",
       "        text-align: right;\n",
       "    }\n",
       "</style>\n",
       "<table border=\"1\" class=\"dataframe\">\n",
       "  <thead>\n",
       "    <tr style=\"text-align: right;\">\n",
       "      <th></th>\n",
       "      <th>Produto</th>\n",
       "      <th>Quantidade</th>\n",
       "      <th>Preco_Unitario</th>\n",
       "      <th>Valor_Total</th>\n",
       "      <th>Data</th>\n",
       "      <th>Estado</th>\n",
       "    </tr>\n",
       "  </thead>\n",
       "  <tbody>\n",
       "    <tr>\n",
       "      <th>9</th>\n",
       "      <td>Produto 9</td>\n",
       "      <td>4</td>\n",
       "      <td>14.52</td>\n",
       "      <td>58.08</td>\n",
       "      <td>23/01/2023 04:03</td>\n",
       "      <td>PE</td>\n",
       "    </tr>\n",
       "    <tr>\n",
       "      <th>10</th>\n",
       "      <td>Produto 3</td>\n",
       "      <td>9</td>\n",
       "      <td>16.06</td>\n",
       "      <td>144.54</td>\n",
       "      <td>03/10/2023 04:03</td>\n",
       "      <td>PE</td>\n",
       "    </tr>\n",
       "    <tr>\n",
       "      <th>19</th>\n",
       "      <td>Produto 1</td>\n",
       "      <td>5</td>\n",
       "      <td>9.35</td>\n",
       "      <td>46.75</td>\n",
       "      <td>28/08/2023 18:03</td>\n",
       "      <td>PE</td>\n",
       "    </tr>\n",
       "    <tr>\n",
       "      <th>29</th>\n",
       "      <td>Produto 7</td>\n",
       "      <td>2</td>\n",
       "      <td>48.72</td>\n",
       "      <td>97.44</td>\n",
       "      <td>17/03/2023 07:03</td>\n",
       "      <td>PE</td>\n",
       "    </tr>\n",
       "    <tr>\n",
       "      <th>61</th>\n",
       "      <td>Produto 8</td>\n",
       "      <td>8</td>\n",
       "      <td>33.55</td>\n",
       "      <td>268.40</td>\n",
       "      <td>21/11/2022 22:03</td>\n",
       "      <td>PE</td>\n",
       "    </tr>\n",
       "  </tbody>\n",
       "</table>\n",
       "</div>"
      ],
      "text/plain": [
       "      Produto  Quantidade  Preco_Unitario  Valor_Total              Data  \\\n",
       "9   Produto 9           4           14.52        58.08  23/01/2023 04:03   \n",
       "10  Produto 3           9           16.06       144.54  03/10/2023 04:03   \n",
       "19  Produto 1           5            9.35        46.75  28/08/2023 18:03   \n",
       "29  Produto 7           2           48.72        97.44  17/03/2023 07:03   \n",
       "61  Produto 8           8           33.55       268.40  21/11/2022 22:03   \n",
       "\n",
       "   Estado  \n",
       "9      PE  \n",
       "10     PE  \n",
       "19     PE  \n",
       "29     PE  \n",
       "61     PE  "
      ]
     },
     "execution_count": 18,
     "metadata": {},
     "output_type": "execute_result"
    }
   ],
   "source": [
    "df_grouped_estate_pe.head()"
   ]
  },
  {
   "cell_type": "code",
   "execution_count": 19,
   "id": "c403749e-7d06-4c1c-a5eb-834a6e9a260b",
   "metadata": {},
   "outputs": [],
   "source": [
    "df_grouped_estate_pe_final = df_grouped_estate_pe['Quantidade'].std()"
   ]
  },
  {
   "cell_type": "code",
   "execution_count": 20,
   "id": "cbdef5e4-4744-4ff1-ba74-c559a048afe2",
   "metadata": {},
   "outputs": [
    {
     "name": "stdout",
     "output_type": "stream",
     "text": [
      "O desvio padrão encontrado é: \n",
      " Estado\n",
      "PE    2.86\n",
      "Name: Quantidade, dtype: float64\n"
     ]
    }
   ],
   "source": [
    "print(\"O desvio padrão encontrado é: \\n\", df_grouped_estate_pe_final.round(2))"
   ]
  },
  {
   "cell_type": "markdown",
   "id": "4f0ed45b-f6ea-4555-ab3a-ba73fc6acdd2",
   "metadata": {},
   "source": [
    "### Pergunta 5:\n",
    "Qual é o valor máximo da venda para os produtos vendidos no Estado de Santa Catarina (SC)?"
   ]
  },
  {
   "cell_type": "code",
   "execution_count": 21,
   "id": "8c5bd0ce-57d8-4bb3-a8fc-adc07ad83d21",
   "metadata": {},
   "outputs": [],
   "source": [
    "df_grouped_estate_sc = df_clean_final[df_clean_final['Estado'] == 'SC'].groupby('Estado')"
   ]
  },
  {
   "cell_type": "code",
   "execution_count": 22,
   "id": "98b6ee64-31c6-4cb9-9c17-b04df6057d0a",
   "metadata": {},
   "outputs": [],
   "source": [
    "df_grouped_estate_sc_final = df_grouped_estate_sc['Valor_Total'].max()"
   ]
  },
  {
   "cell_type": "code",
   "execution_count": 23,
   "id": "eaa6cb4f-571d-4bec-9e33-6c20641aa70f",
   "metadata": {},
   "outputs": [
    {
     "name": "stdout",
     "output_type": "stream",
     "text": [
      "O maior valor de venda encontrado é: \n",
      " Estado\n",
      "SC    356.2\n",
      "Name: Valor_Total, dtype: float64\n"
     ]
    }
   ],
   "source": [
    "print(\"O maior valor de venda encontrado é: \\n\", df_grouped_estate_sc_final)"
   ]
  },
  {
   "cell_type": "markdown",
   "id": "58338a01-7d48-4da2-b003-e56c42fce05c",
   "metadata": {},
   "source": [
    "### Pergunta 6:\n",
    "Calcule a soma da coluna \"Quantidade\" para todos os produtos e responda: qual produto teve o maior total de unidades vendidas?"
   ]
  },
  {
   "cell_type": "code",
   "execution_count": 24,
   "id": "c22ff14d-037a-40a7-9233-f02213183ea2",
   "metadata": {},
   "outputs": [
    {
     "name": "stdout",
     "output_type": "stream",
     "text": [
      "Produto\n",
      "Produto 3     1197\n",
      "Produto 2     1191\n",
      "Produto 6     1185\n",
      "Produto 5     1183\n",
      "Produto 1     1122\n",
      "Produto 10    1104\n",
      "Produto 8     1056\n",
      "Produto 4     1037\n",
      "Produto 7     1016\n",
      "Produto 9      996\n",
      "Name: Quantidade, dtype: int64\n"
     ]
    }
   ],
   "source": [
    "df_calc_qtd = df_clean_final.groupby('Produto')['Quantidade'].sum().sort_values(ascending = False)\n",
    "print(df_calc_qtd)"
   ]
  },
  {
   "cell_type": "markdown",
   "id": "51f161df-b3bd-4695-a35b-40a1a42e2275",
   "metadata": {},
   "source": [
    "### Pergunta 7:\n",
    "Qual é a média da quantidade vendida para o Produto 8 no Estado de Pernambuco (PE)?"
   ]
  },
  {
   "cell_type": "code",
   "execution_count": 25,
   "id": "a5f3f493-6292-4026-b725-5275e39134a2",
   "metadata": {},
   "outputs": [
    {
     "name": "stdout",
     "output_type": "stream",
     "text": [
      "A média de quantidades vendidas para o Produto 8 é: \n",
      " Estado\n",
      "PE    5.41\n",
      "Name: Quantidade, dtype: float64\n"
     ]
    }
   ],
   "source": [
    "df_grouped_prod_pe = df_clean_final[(df_clean_final['Estado'] == 'PE') & (df_clean_final['Produto'] == 'Produto 8')].groupby('Estado')\n",
    "df_grouped_prod_pe_final = df_grouped_prod_pe['Quantidade'].mean()\n",
    "print(\"A média de quantidades vendidas para o Produto 8 é: \\n\", df_grouped_prod_pe_final.round(2))"
   ]
  },
  {
   "cell_type": "markdown",
   "id": "df224f51-8b9d-42f1-8cd1-047c86391d99",
   "metadata": {},
   "source": [
    "### Pergunta 8:\n",
    "Qual é a soma do valor da venda para todos os produtos vendidos para os estados de MG e SP?"
   ]
  },
  {
   "cell_type": "code",
   "execution_count": 26,
   "id": "67b8e945-8a16-4020-bb43-997712639076",
   "metadata": {},
   "outputs": [
    {
     "name": "stdout",
     "output_type": "stream",
     "text": [
      "A soma total de vendas dos dois estados é: R$ 43858.25\n"
     ]
    }
   ],
   "source": [
    "df_grouped_prod_mg_sp = df_vendas_original[df_vendas_original['Estado'].isin(['MG', 'SP'])].groupby('Estado')\n",
    "df_grouped_prod_mg_sp_final = df_grouped_prod_mg_sp['Valor_Total'].sum()\n",
    "print(\"A soma total de vendas dos dois estados é: R$\", df_grouped_prod_mg_sp_final.sum())"
   ]
  },
  {
   "cell_type": "markdown",
   "id": "603f21b1-f1aa-4520-8e61-83379bc899ba",
   "metadata": {},
   "source": [
    "### Pergunta 9:\n",
    "Calcule a média da coluna \"Valor Total\" para todos os produtos que estão disponíveis nos estados de AL, BA, CE, MA, PB, PE, PI, RN, SE. Qual é o valor resultante?ed\r\n"
   ]
  },
  {
   "cell_type": "code",
   "execution_count": 27,
   "id": "fa036479-931c-4105-98a2-5817dac9c033",
   "metadata": {},
   "outputs": [
    {
     "name": "stdout",
     "output_type": "stream",
     "text": [
      "A média do valor total dos estados é: R$ 114.31\n"
     ]
    }
   ],
   "source": [
    "df_grouped_prod_estates = df_vendas_original[df_vendas_original['Estado'].isin(['AL', 'BA', 'CE', 'MA', 'PB', 'PE', 'PI', 'RN', 'SE'])].groupby('Estado')\n",
    "df_grouped_prod_mg_sp_final = df_grouped_prod_estates['Valor_Total'].mean()\n",
    "print(\"A média do valor total dos estados é: R$\", df_grouped_prod_mg_sp_final.mean().round(2))"
   ]
  }
 ],
 "metadata": {
  "kernelspec": {
   "display_name": "trabalho_pratico2",
   "language": "python",
   "name": "trabalho_pratico2"
  },
  "language_info": {
   "codemirror_mode": {
    "name": "ipython",
    "version": 3
   },
   "file_extension": ".py",
   "mimetype": "text/x-python",
   "name": "python",
   "nbconvert_exporter": "python",
   "pygments_lexer": "ipython3",
   "version": "3.12.4"
  }
 },
 "nbformat": 4,
 "nbformat_minor": 5
}
