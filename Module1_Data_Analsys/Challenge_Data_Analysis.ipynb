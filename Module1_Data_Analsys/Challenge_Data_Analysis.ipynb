{
 "cells": [
  {
   "cell_type": "markdown",
   "id": "a1088a5e-baf9-4dae-a5a5-1b49536a801d",
   "metadata": {},
   "source": [
    "# Desafio: Análise de Dados\n",
    "<hr>\n",
    "\n",
    "#### Respondendo a perguntas de negócio propostos no desafio final do curso <br>"
   ]
  },
  {
   "cell_type": "code",
   "execution_count": 1,
   "id": "b9bd664e-2abc-446c-8b3c-b33e1f0b61c2",
   "metadata": {},
   "outputs": [],
   "source": [
    "import pandas as pd\n",
    "import numpy as np\n",
    "import matplotlib.pyplot as plt\n",
    "import seaborn as sns"
   ]
  },
  {
   "cell_type": "code",
   "execution_count": 2,
   "id": "c3749b0a-1649-4770-93e3-b4b5a9eb61c7",
   "metadata": {},
   "outputs": [],
   "source": [
    "df_fisico_clientes_original = pd.read_csv(\"./clientes_caracteristicas_fisicas.csv\", delimiter=\",\")\n",
    "df_demografico_clientes_original = pd.read_csv(\"./clientes_informacoes_demograficas.csv\", delimiter=\";\")"
   ]
  },
  {
   "cell_type": "code",
   "execution_count": 3,
   "id": "57742e35-8bc8-404b-b063-98213ba185f8",
   "metadata": {},
   "outputs": [
    {
     "data": {
      "text/html": [
       "<div>\n",
       "<style scoped>\n",
       "    .dataframe tbody tr th:only-of-type {\n",
       "        vertical-align: middle;\n",
       "    }\n",
       "\n",
       "    .dataframe tbody tr th {\n",
       "        vertical-align: top;\n",
       "    }\n",
       "\n",
       "    .dataframe thead th {\n",
       "        text-align: right;\n",
       "    }\n",
       "</style>\n",
       "<table border=\"1\" class=\"dataframe\">\n",
       "  <thead>\n",
       "    <tr style=\"text-align: right;\">\n",
       "      <th></th>\n",
       "      <th>ID Cliente</th>\n",
       "      <th>Cor do Cabelo</th>\n",
       "      <th>Cor dos Olhos</th>\n",
       "      <th>Cor da Pele</th>\n",
       "      <th>Altura (cm)</th>\n",
       "      <th>Peso (kg)</th>\n",
       "      <th>Tatuagens</th>\n",
       "      <th>Piercings</th>\n",
       "      <th>Tipo Sanguíneo</th>\n",
       "      <th>Tipo de Pele</th>\n",
       "    </tr>\n",
       "  </thead>\n",
       "  <tbody>\n",
       "    <tr>\n",
       "      <th>0</th>\n",
       "      <td>1</td>\n",
       "      <td>Castanho</td>\n",
       "      <td>Verde</td>\n",
       "      <td>Negra</td>\n",
       "      <td>182.81</td>\n",
       "      <td>66.71</td>\n",
       "      <td>1</td>\n",
       "      <td>1</td>\n",
       "      <td>AB+</td>\n",
       "      <td>Mista</td>\n",
       "    </tr>\n",
       "    <tr>\n",
       "      <th>1</th>\n",
       "      <td>2</td>\n",
       "      <td>Castanho</td>\n",
       "      <td>Castanho</td>\n",
       "      <td>Parda</td>\n",
       "      <td>168.21</td>\n",
       "      <td>65.74</td>\n",
       "      <td>2</td>\n",
       "      <td>2</td>\n",
       "      <td>AB+</td>\n",
       "      <td>Oleosa</td>\n",
       "    </tr>\n",
       "    <tr>\n",
       "      <th>2</th>\n",
       "      <td>3</td>\n",
       "      <td>Preto</td>\n",
       "      <td>Azul</td>\n",
       "      <td>Branca</td>\n",
       "      <td>169.54</td>\n",
       "      <td>109.91</td>\n",
       "      <td>1</td>\n",
       "      <td>1</td>\n",
       "      <td>B+</td>\n",
       "      <td>Oleosa</td>\n",
       "    </tr>\n",
       "    <tr>\n",
       "      <th>3</th>\n",
       "      <td>4</td>\n",
       "      <td>Loiro</td>\n",
       "      <td>Castanho</td>\n",
       "      <td>Negra</td>\n",
       "      <td>167.25</td>\n",
       "      <td>100.10</td>\n",
       "      <td>4</td>\n",
       "      <td>3</td>\n",
       "      <td>O+</td>\n",
       "      <td>Oleosa</td>\n",
       "    </tr>\n",
       "    <tr>\n",
       "      <th>4</th>\n",
       "      <td>5</td>\n",
       "      <td>Loiro</td>\n",
       "      <td>Preto</td>\n",
       "      <td>Negra</td>\n",
       "      <td>152.45</td>\n",
       "      <td>117.68</td>\n",
       "      <td>1</td>\n",
       "      <td>0</td>\n",
       "      <td>B+</td>\n",
       "      <td>Mista</td>\n",
       "    </tr>\n",
       "  </tbody>\n",
       "</table>\n",
       "</div>"
      ],
      "text/plain": [
       "   ID Cliente Cor do Cabelo Cor dos Olhos Cor da Pele  Altura (cm)  Peso (kg)  \\\n",
       "0           1      Castanho         Verde       Negra       182.81      66.71   \n",
       "1           2      Castanho      Castanho       Parda       168.21      65.74   \n",
       "2           3         Preto          Azul      Branca       169.54     109.91   \n",
       "3           4         Loiro      Castanho       Negra       167.25     100.10   \n",
       "4           5         Loiro         Preto       Negra       152.45     117.68   \n",
       "\n",
       "   Tatuagens  Piercings Tipo Sanguíneo Tipo de Pele  \n",
       "0          1          1            AB+        Mista  \n",
       "1          2          2            AB+       Oleosa  \n",
       "2          1          1             B+       Oleosa  \n",
       "3          4          3             O+       Oleosa  \n",
       "4          1          0             B+        Mista  "
      ]
     },
     "execution_count": 3,
     "metadata": {},
     "output_type": "execute_result"
    }
   ],
   "source": [
    "df_fisico_clientes_original.head()"
   ]
  },
  {
   "cell_type": "code",
   "execution_count": 4,
   "id": "e1595952-9c64-4cd8-9250-2eae6ff6864b",
   "metadata": {},
   "outputs": [
    {
     "data": {
      "text/html": [
       "<div>\n",
       "<style scoped>\n",
       "    .dataframe tbody tr th:only-of-type {\n",
       "        vertical-align: middle;\n",
       "    }\n",
       "\n",
       "    .dataframe tbody tr th {\n",
       "        vertical-align: top;\n",
       "    }\n",
       "\n",
       "    .dataframe thead th {\n",
       "        text-align: right;\n",
       "    }\n",
       "</style>\n",
       "<table border=\"1\" class=\"dataframe\">\n",
       "  <thead>\n",
       "    <tr style=\"text-align: right;\">\n",
       "      <th></th>\n",
       "      <th>ID Cliente</th>\n",
       "      <th>Escolaridade</th>\n",
       "      <th>Tem Filhos</th>\n",
       "      <th>Salário</th>\n",
       "      <th>Idade</th>\n",
       "      <th>Estado</th>\n",
       "      <th>Estado Civil</th>\n",
       "      <th>Profissão</th>\n",
       "      <th>Hobbies (Código)</th>\n",
       "      <th>Número de Cartões de Crédito</th>\n",
       "    </tr>\n",
       "  </thead>\n",
       "  <tbody>\n",
       "    <tr>\n",
       "      <th>0</th>\n",
       "      <td>1</td>\n",
       "      <td>Fundamental</td>\n",
       "      <td>Sim</td>\n",
       "      <td>4561.18</td>\n",
       "      <td>42.16</td>\n",
       "      <td>MA</td>\n",
       "      <td>Viúvo</td>\n",
       "      <td>Professor</td>\n",
       "      <td>R</td>\n",
       "      <td>3</td>\n",
       "    </tr>\n",
       "    <tr>\n",
       "      <th>1</th>\n",
       "      <td>2</td>\n",
       "      <td>Superior</td>\n",
       "      <td>Sim</td>\n",
       "      <td>7344.43</td>\n",
       "      <td>46.99</td>\n",
       "      <td>TO</td>\n",
       "      <td>Solteiro</td>\n",
       "      <td>Outros</td>\n",
       "      <td>E</td>\n",
       "      <td>2</td>\n",
       "    </tr>\n",
       "    <tr>\n",
       "      <th>2</th>\n",
       "      <td>3</td>\n",
       "      <td>Fundamental</td>\n",
       "      <td>Não</td>\n",
       "      <td>5467.59</td>\n",
       "      <td>64.53</td>\n",
       "      <td>PI</td>\n",
       "      <td>Solteiro</td>\n",
       "      <td>Empresário</td>\n",
       "      <td>RC</td>\n",
       "      <td>3</td>\n",
       "    </tr>\n",
       "    <tr>\n",
       "      <th>3</th>\n",
       "      <td>4</td>\n",
       "      <td>Pós-Graduação</td>\n",
       "      <td>Não</td>\n",
       "      <td>1886.92</td>\n",
       "      <td>33.76</td>\n",
       "      <td>RJ</td>\n",
       "      <td>Divorciado</td>\n",
       "      <td>Professor</td>\n",
       "      <td>MLM</td>\n",
       "      <td>2</td>\n",
       "    </tr>\n",
       "    <tr>\n",
       "      <th>4</th>\n",
       "      <td>5</td>\n",
       "      <td>Superior</td>\n",
       "      <td>Não</td>\n",
       "      <td>9703.03</td>\n",
       "      <td>35.94</td>\n",
       "      <td>AP</td>\n",
       "      <td>Viúvo</td>\n",
       "      <td>Médico</td>\n",
       "      <td>CXC</td>\n",
       "      <td>1</td>\n",
       "    </tr>\n",
       "  </tbody>\n",
       "</table>\n",
       "</div>"
      ],
      "text/plain": [
       "   ID Cliente   Escolaridade Tem Filhos  Salário  Idade Estado Estado Civil  \\\n",
       "0           1    Fundamental        Sim  4561.18  42.16     MA        Viúvo   \n",
       "1           2       Superior        Sim  7344.43  46.99     TO     Solteiro   \n",
       "2           3    Fundamental        Não  5467.59  64.53     PI     Solteiro   \n",
       "3           4  Pós-Graduação        Não  1886.92  33.76     RJ   Divorciado   \n",
       "4           5       Superior        Não  9703.03  35.94     AP        Viúvo   \n",
       "\n",
       "    Profissão Hobbies (Código)  Número de Cartões de Crédito  \n",
       "0   Professor                R                             3  \n",
       "1      Outros                E                             2  \n",
       "2  Empresário               RC                             3  \n",
       "3   Professor              MLM                             2  \n",
       "4      Médico              CXC                             1  "
      ]
     },
     "execution_count": 4,
     "metadata": {},
     "output_type": "execute_result"
    }
   ],
   "source": [
    "df_demografico_clientes_original.head()"
   ]
  },
  {
   "cell_type": "code",
   "execution_count": 5,
   "id": "6e13d8cb-446d-4751-b268-25ac061c362e",
   "metadata": {},
   "outputs": [
    {
     "data": {
      "text/html": [
       "<div>\n",
       "<style scoped>\n",
       "    .dataframe tbody tr th:only-of-type {\n",
       "        vertical-align: middle;\n",
       "    }\n",
       "\n",
       "    .dataframe tbody tr th {\n",
       "        vertical-align: top;\n",
       "    }\n",
       "\n",
       "    .dataframe thead th {\n",
       "        text-align: right;\n",
       "    }\n",
       "</style>\n",
       "<table border=\"1\" class=\"dataframe\">\n",
       "  <thead>\n",
       "    <tr style=\"text-align: right;\">\n",
       "      <th></th>\n",
       "      <th>ID Cliente</th>\n",
       "      <th>Cor do Cabelo</th>\n",
       "      <th>Cor dos Olhos</th>\n",
       "      <th>Cor da Pele</th>\n",
       "      <th>Altura (cm)</th>\n",
       "      <th>Peso (kg)</th>\n",
       "      <th>Tatuagens</th>\n",
       "      <th>Piercings</th>\n",
       "      <th>Tipo Sanguíneo</th>\n",
       "      <th>Tipo de Pele</th>\n",
       "      <th>Escolaridade</th>\n",
       "      <th>Tem Filhos</th>\n",
       "      <th>Salário</th>\n",
       "      <th>Idade</th>\n",
       "      <th>Estado</th>\n",
       "      <th>Estado Civil</th>\n",
       "      <th>Profissão</th>\n",
       "      <th>Hobbies (Código)</th>\n",
       "      <th>Número de Cartões de Crédito</th>\n",
       "    </tr>\n",
       "  </thead>\n",
       "  <tbody>\n",
       "    <tr>\n",
       "      <th>0</th>\n",
       "      <td>1</td>\n",
       "      <td>Castanho</td>\n",
       "      <td>Verde</td>\n",
       "      <td>Negra</td>\n",
       "      <td>182.81</td>\n",
       "      <td>66.71</td>\n",
       "      <td>1</td>\n",
       "      <td>1</td>\n",
       "      <td>AB+</td>\n",
       "      <td>Mista</td>\n",
       "      <td>Fundamental</td>\n",
       "      <td>Sim</td>\n",
       "      <td>4561.18</td>\n",
       "      <td>42.16</td>\n",
       "      <td>MA</td>\n",
       "      <td>Viúvo</td>\n",
       "      <td>Professor</td>\n",
       "      <td>R</td>\n",
       "      <td>3</td>\n",
       "    </tr>\n",
       "    <tr>\n",
       "      <th>1</th>\n",
       "      <td>2</td>\n",
       "      <td>Castanho</td>\n",
       "      <td>Castanho</td>\n",
       "      <td>Parda</td>\n",
       "      <td>168.21</td>\n",
       "      <td>65.74</td>\n",
       "      <td>2</td>\n",
       "      <td>2</td>\n",
       "      <td>AB+</td>\n",
       "      <td>Oleosa</td>\n",
       "      <td>Superior</td>\n",
       "      <td>Sim</td>\n",
       "      <td>7344.43</td>\n",
       "      <td>46.99</td>\n",
       "      <td>TO</td>\n",
       "      <td>Solteiro</td>\n",
       "      <td>Outros</td>\n",
       "      <td>E</td>\n",
       "      <td>2</td>\n",
       "    </tr>\n",
       "    <tr>\n",
       "      <th>2</th>\n",
       "      <td>3</td>\n",
       "      <td>Preto</td>\n",
       "      <td>Azul</td>\n",
       "      <td>Branca</td>\n",
       "      <td>169.54</td>\n",
       "      <td>109.91</td>\n",
       "      <td>1</td>\n",
       "      <td>1</td>\n",
       "      <td>B+</td>\n",
       "      <td>Oleosa</td>\n",
       "      <td>Fundamental</td>\n",
       "      <td>Não</td>\n",
       "      <td>5467.59</td>\n",
       "      <td>64.53</td>\n",
       "      <td>PI</td>\n",
       "      <td>Solteiro</td>\n",
       "      <td>Empresário</td>\n",
       "      <td>RC</td>\n",
       "      <td>3</td>\n",
       "    </tr>\n",
       "    <tr>\n",
       "      <th>3</th>\n",
       "      <td>4</td>\n",
       "      <td>Loiro</td>\n",
       "      <td>Castanho</td>\n",
       "      <td>Negra</td>\n",
       "      <td>167.25</td>\n",
       "      <td>100.10</td>\n",
       "      <td>4</td>\n",
       "      <td>3</td>\n",
       "      <td>O+</td>\n",
       "      <td>Oleosa</td>\n",
       "      <td>Pós-Graduação</td>\n",
       "      <td>Não</td>\n",
       "      <td>1886.92</td>\n",
       "      <td>33.76</td>\n",
       "      <td>RJ</td>\n",
       "      <td>Divorciado</td>\n",
       "      <td>Professor</td>\n",
       "      <td>MLM</td>\n",
       "      <td>2</td>\n",
       "    </tr>\n",
       "    <tr>\n",
       "      <th>4</th>\n",
       "      <td>5</td>\n",
       "      <td>Loiro</td>\n",
       "      <td>Preto</td>\n",
       "      <td>Negra</td>\n",
       "      <td>152.45</td>\n",
       "      <td>117.68</td>\n",
       "      <td>1</td>\n",
       "      <td>0</td>\n",
       "      <td>B+</td>\n",
       "      <td>Mista</td>\n",
       "      <td>Superior</td>\n",
       "      <td>Não</td>\n",
       "      <td>9703.03</td>\n",
       "      <td>35.94</td>\n",
       "      <td>AP</td>\n",
       "      <td>Viúvo</td>\n",
       "      <td>Médico</td>\n",
       "      <td>CXC</td>\n",
       "      <td>1</td>\n",
       "    </tr>\n",
       "  </tbody>\n",
       "</table>\n",
       "</div>"
      ],
      "text/plain": [
       "   ID Cliente Cor do Cabelo Cor dos Olhos Cor da Pele  Altura (cm)  Peso (kg)  \\\n",
       "0           1      Castanho         Verde       Negra       182.81      66.71   \n",
       "1           2      Castanho      Castanho       Parda       168.21      65.74   \n",
       "2           3         Preto          Azul      Branca       169.54     109.91   \n",
       "3           4         Loiro      Castanho       Negra       167.25     100.10   \n",
       "4           5         Loiro         Preto       Negra       152.45     117.68   \n",
       "\n",
       "   Tatuagens  Piercings Tipo Sanguíneo Tipo de Pele   Escolaridade Tem Filhos  \\\n",
       "0          1          1            AB+        Mista    Fundamental        Sim   \n",
       "1          2          2            AB+       Oleosa       Superior        Sim   \n",
       "2          1          1             B+       Oleosa    Fundamental        Não   \n",
       "3          4          3             O+       Oleosa  Pós-Graduação        Não   \n",
       "4          1          0             B+        Mista       Superior        Não   \n",
       "\n",
       "   Salário  Idade Estado Estado Civil   Profissão Hobbies (Código)  \\\n",
       "0  4561.18  42.16     MA        Viúvo   Professor                R   \n",
       "1  7344.43  46.99     TO     Solteiro      Outros                E   \n",
       "2  5467.59  64.53     PI     Solteiro  Empresário               RC   \n",
       "3  1886.92  33.76     RJ   Divorciado   Professor              MLM   \n",
       "4  9703.03  35.94     AP        Viúvo      Médico              CXC   \n",
       "\n",
       "   Número de Cartões de Crédito  \n",
       "0                             3  \n",
       "1                             2  \n",
       "2                             3  \n",
       "3                             2  \n",
       "4                             1  "
      ]
     },
     "execution_count": 5,
     "metadata": {},
     "output_type": "execute_result"
    }
   ],
   "source": [
    "# realizando o merge dos Data Frames com base no ID do Cliente\n",
    "df_grouped_original= pd.merge(df_fisico_clientes_original, df_demografico_clientes_original, on='ID Cliente', how='outer')\n",
    "df_grouped_original.head()"
   ]
  },
  {
   "cell_type": "code",
   "execution_count": 6,
   "id": "fc43136c-36cc-4257-9792-e8855cf9d15e",
   "metadata": {},
   "outputs": [
    {
     "name": "stdout",
     "output_type": "stream",
     "text": [
      "<class 'pandas.core.frame.DataFrame'>\n",
      "RangeIndex: 5028 entries, 0 to 5027\n",
      "Data columns (total 19 columns):\n",
      " #   Column                        Non-Null Count  Dtype  \n",
      "---  ------                        --------------  -----  \n",
      " 0   ID Cliente                    5028 non-null   int64  \n",
      " 1   Cor do Cabelo                 5028 non-null   object \n",
      " 2   Cor dos Olhos                 5028 non-null   object \n",
      " 3   Cor da Pele                   5028 non-null   object \n",
      " 4   Altura (cm)                   5028 non-null   float64\n",
      " 5   Peso (kg)                     5028 non-null   float64\n",
      " 6   Tatuagens                     5028 non-null   int64  \n",
      " 7   Piercings                     5028 non-null   int64  \n",
      " 8   Tipo Sanguíneo                5028 non-null   object \n",
      " 9   Tipo de Pele                  5028 non-null   object \n",
      " 10  Escolaridade                  5028 non-null   object \n",
      " 11  Tem Filhos                    5028 non-null   object \n",
      " 12  Salário                       5028 non-null   float64\n",
      " 13  Idade                         4997 non-null   float64\n",
      " 14  Estado                        5028 non-null   object \n",
      " 15  Estado Civil                  5028 non-null   object \n",
      " 16  Profissão                     5028 non-null   object \n",
      " 17  Hobbies (Código)              5027 non-null   object \n",
      " 18  Número de Cartões de Crédito  5028 non-null   int64  \n",
      "dtypes: float64(4), int64(4), object(11)\n",
      "memory usage: 746.5+ KB\n"
     ]
    }
   ],
   "source": [
    "df_grouped_original.info()"
   ]
  },
  {
   "cell_type": "code",
   "execution_count": 7,
   "id": "f7becac3-8196-45c0-bdc2-60d815ae23d7",
   "metadata": {},
   "outputs": [
    {
     "data": {
      "text/html": [
       "<div>\n",
       "<style scoped>\n",
       "    .dataframe tbody tr th:only-of-type {\n",
       "        vertical-align: middle;\n",
       "    }\n",
       "\n",
       "    .dataframe tbody tr th {\n",
       "        vertical-align: top;\n",
       "    }\n",
       "\n",
       "    .dataframe thead th {\n",
       "        text-align: right;\n",
       "    }\n",
       "</style>\n",
       "<table border=\"1\" class=\"dataframe\">\n",
       "  <thead>\n",
       "    <tr style=\"text-align: right;\">\n",
       "      <th></th>\n",
       "      <th>ID Cliente</th>\n",
       "      <th>Altura (cm)</th>\n",
       "      <th>Peso (kg)</th>\n",
       "      <th>Tatuagens</th>\n",
       "      <th>Piercings</th>\n",
       "      <th>Salário</th>\n",
       "      <th>Idade</th>\n",
       "      <th>Número de Cartões de Crédito</th>\n",
       "    </tr>\n",
       "  </thead>\n",
       "  <tbody>\n",
       "    <tr>\n",
       "      <th>count</th>\n",
       "      <td>5028.000000</td>\n",
       "      <td>5028.000000</td>\n",
       "      <td>5028.000000</td>\n",
       "      <td>5028.000000</td>\n",
       "      <td>5028.000000</td>\n",
       "      <td>5028.000000</td>\n",
       "      <td>4997.000000</td>\n",
       "      <td>5028.000000</td>\n",
       "    </tr>\n",
       "    <tr>\n",
       "      <th>mean</th>\n",
       "      <td>2514.344073</td>\n",
       "      <td>174.888508</td>\n",
       "      <td>79.565274</td>\n",
       "      <td>2.506762</td>\n",
       "      <td>1.514121</td>\n",
       "      <td>5496.094996</td>\n",
       "      <td>49.132467</td>\n",
       "      <td>1.486675</td>\n",
       "    </tr>\n",
       "    <tr>\n",
       "      <th>std</th>\n",
       "      <td>1451.335782</td>\n",
       "      <td>14.585630</td>\n",
       "      <td>23.249313</td>\n",
       "      <td>1.700511</td>\n",
       "      <td>1.121609</td>\n",
       "      <td>2576.332871</td>\n",
       "      <td>17.903934</td>\n",
       "      <td>1.121619</td>\n",
       "    </tr>\n",
       "    <tr>\n",
       "      <th>min</th>\n",
       "      <td>1.000000</td>\n",
       "      <td>150.000000</td>\n",
       "      <td>40.010000</td>\n",
       "      <td>0.000000</td>\n",
       "      <td>0.000000</td>\n",
       "      <td>1000.280000</td>\n",
       "      <td>18.010000</td>\n",
       "      <td>0.000000</td>\n",
       "    </tr>\n",
       "    <tr>\n",
       "      <th>25%</th>\n",
       "      <td>1257.750000</td>\n",
       "      <td>162.100000</td>\n",
       "      <td>59.475000</td>\n",
       "      <td>1.000000</td>\n",
       "      <td>1.000000</td>\n",
       "      <td>3291.430000</td>\n",
       "      <td>33.690000</td>\n",
       "      <td>0.000000</td>\n",
       "    </tr>\n",
       "    <tr>\n",
       "      <th>50%</th>\n",
       "      <td>2514.500000</td>\n",
       "      <td>175.020000</td>\n",
       "      <td>79.235000</td>\n",
       "      <td>3.000000</td>\n",
       "      <td>2.000000</td>\n",
       "      <td>5494.995000</td>\n",
       "      <td>49.210000</td>\n",
       "      <td>1.000000</td>\n",
       "    </tr>\n",
       "    <tr>\n",
       "      <th>75%</th>\n",
       "      <td>3771.250000</td>\n",
       "      <td>187.585000</td>\n",
       "      <td>99.947500</td>\n",
       "      <td>4.000000</td>\n",
       "      <td>3.000000</td>\n",
       "      <td>7708.867500</td>\n",
       "      <td>64.670000</td>\n",
       "      <td>2.000000</td>\n",
       "    </tr>\n",
       "    <tr>\n",
       "      <th>max</th>\n",
       "      <td>5000.000000</td>\n",
       "      <td>199.990000</td>\n",
       "      <td>120.000000</td>\n",
       "      <td>5.000000</td>\n",
       "      <td>3.000000</td>\n",
       "      <td>9996.280000</td>\n",
       "      <td>80.000000</td>\n",
       "      <td>3.000000</td>\n",
       "    </tr>\n",
       "  </tbody>\n",
       "</table>\n",
       "</div>"
      ],
      "text/plain": [
       "        ID Cliente  Altura (cm)    Peso (kg)    Tatuagens    Piercings  \\\n",
       "count  5028.000000  5028.000000  5028.000000  5028.000000  5028.000000   \n",
       "mean   2514.344073   174.888508    79.565274     2.506762     1.514121   \n",
       "std    1451.335782    14.585630    23.249313     1.700511     1.121609   \n",
       "min       1.000000   150.000000    40.010000     0.000000     0.000000   \n",
       "25%    1257.750000   162.100000    59.475000     1.000000     1.000000   \n",
       "50%    2514.500000   175.020000    79.235000     3.000000     2.000000   \n",
       "75%    3771.250000   187.585000    99.947500     4.000000     3.000000   \n",
       "max    5000.000000   199.990000   120.000000     5.000000     3.000000   \n",
       "\n",
       "           Salário        Idade  Número de Cartões de Crédito  \n",
       "count  5028.000000  4997.000000                   5028.000000  \n",
       "mean   5496.094996    49.132467                      1.486675  \n",
       "std    2576.332871    17.903934                      1.121619  \n",
       "min    1000.280000    18.010000                      0.000000  \n",
       "25%    3291.430000    33.690000                      0.000000  \n",
       "50%    5494.995000    49.210000                      1.000000  \n",
       "75%    7708.867500    64.670000                      2.000000  \n",
       "max    9996.280000    80.000000                      3.000000  "
      ]
     },
     "execution_count": 7,
     "metadata": {},
     "output_type": "execute_result"
    }
   ],
   "source": [
    "df_grouped_original.describe()"
   ]
  },
  {
   "cell_type": "code",
   "execution_count": 8,
   "id": "73532a3b-2f08-4210-98cd-4809a03b7ad6",
   "metadata": {},
   "outputs": [
    {
     "name": "stdout",
     "output_type": "stream",
     "text": [
      "ID Cliente                       0\n",
      "Cor do Cabelo                    0\n",
      "Cor dos Olhos                    0\n",
      "Cor da Pele                      0\n",
      "Altura (cm)                      0\n",
      "Peso (kg)                        0\n",
      "Tatuagens                        0\n",
      "Piercings                        0\n",
      "Tipo Sanguíneo                   0\n",
      "Tipo de Pele                     0\n",
      "Escolaridade                     0\n",
      "Tem Filhos                       0\n",
      "Salário                          0\n",
      "Idade                           31\n",
      "Estado                           0\n",
      "Estado Civil                     0\n",
      "Profissão                        0\n",
      "Hobbies (Código)                 1\n",
      "Número de Cartões de Crédito     0\n",
      "dtype: int64\n"
     ]
    }
   ],
   "source": [
    "# consultando valores ausentes\n",
    "print(df_grouped_original.isna().sum())"
   ]
  },
  {
   "cell_type": "code",
   "execution_count": 9,
   "id": "014d9a07-7f75-44f5-8702-f8fc1b263275",
   "metadata": {},
   "outputs": [],
   "source": [
    "#Exclusão dos dados categóricos ausentes(Hobbies)\n",
    "df_grouped_clean = df_grouped_original.dropna(subset=['Hobbies (Código)'])"
   ]
  },
  {
   "cell_type": "code",
   "execution_count": 10,
   "id": "e38bfa9f-3860-46f2-8ea7-50a5fc4ce748",
   "metadata": {},
   "outputs": [],
   "source": [
    "#Substituição dos valores de idade ausentes pela média da idade dotaframe\n",
    "df_grouped_clean_final = df_grouped_clean.fillna({'Idade': df_grouped_clean['Idade'].mean()})"
   ]
  },
  {
   "cell_type": "code",
   "execution_count": 11,
   "id": "7d19d7d1-fe8f-4fc8-ae82-e086c95f615d",
   "metadata": {},
   "outputs": [
    {
     "name": "stdout",
     "output_type": "stream",
     "text": [
      "ID Cliente                      0\n",
      "Cor do Cabelo                   0\n",
      "Cor dos Olhos                   0\n",
      "Cor da Pele                     0\n",
      "Altura (cm)                     0\n",
      "Peso (kg)                       0\n",
      "Tatuagens                       0\n",
      "Piercings                       0\n",
      "Tipo Sanguíneo                  0\n",
      "Tipo de Pele                    0\n",
      "Escolaridade                    0\n",
      "Tem Filhos                      0\n",
      "Salário                         0\n",
      "Idade                           0\n",
      "Estado                          0\n",
      "Estado Civil                    0\n",
      "Profissão                       0\n",
      "Hobbies (Código)                0\n",
      "Número de Cartões de Crédito    0\n",
      "dtype: int64\n"
     ]
    }
   ],
   "source": [
    "print(df_grouped_clean_final.isna().sum())"
   ]
  },
  {
   "cell_type": "markdown",
   "id": "96c15caf-292e-47d8-be3a-d857a78d7ed7",
   "metadata": {},
   "source": [
    "### Pergunta 1:\n",
    "Após a coleta de todos os dados, responda: quantos códigos de hobbies distintos estão presentes na base de dados?"
   ]
  },
  {
   "cell_type": "code",
   "execution_count": 12,
   "id": "7a952574-c185-4969-9ffa-7e386bb01c5c",
   "metadata": {},
   "outputs": [
    {
     "data": {
      "text/plain": [
       "3517"
      ]
     },
     "execution_count": 12,
     "metadata": {},
     "output_type": "execute_result"
    }
   ],
   "source": [
    "df_grouped_clean_final['Hobbies (Código)'].nunique()"
   ]
  },
  {
   "cell_type": "markdown",
   "id": "94dbd7a5-68ef-48c0-b66b-9d6d8065b4a0",
   "metadata": {},
   "source": [
    "### Pergunta 2:\n",
    "Qual é a cor de cabelo mais comum entre os clientes?"
   ]
  },
  {
   "cell_type": "code",
   "execution_count": 13,
   "id": "94395538-e0a7-4a26-9667-96bc768f6061",
   "metadata": {},
   "outputs": [
    {
     "name": "stdout",
     "output_type": "stream",
     "text": [
      "Ruivo\n"
     ]
    }
   ],
   "source": [
    "df_hair_commom = df_grouped_clean_final['Cor do Cabelo'].value_counts().idxmax()\n",
    "print(df_hair_commom)"
   ]
  },
  {
   "cell_type": "markdown",
   "id": "a133d47d-248c-40f8-8908-3a3a4895b37d",
   "metadata": {},
   "source": [
    "### Pergunta 3:\n",
    "Existe alguma correlação entre a altura e o peso dos clientes?"
   ]
  },
  {
   "cell_type": "code",
   "execution_count": 14,
   "id": "f9ad7912-5cc2-4680-ae51-5b9f98d1954e",
   "metadata": {},
   "outputs": [
    {
     "name": "stdout",
     "output_type": "stream",
     "text": [
      "0.007231380912101932\n"
     ]
    }
   ],
   "source": [
    "corr = df_grouped_clean_final['Altura (cm)'].corr(df_grouped_clean_final['Peso (kg)'])\n",
    "print(corr)"
   ]
  },
  {
   "cell_type": "markdown",
   "id": "8f4293e9-4791-4639-85ea-37fb60f1f044",
   "metadata": {},
   "source": [
    "### Pergunta 4:\n",
    "Qual é o estado com a maior média de salário entre os clientes?\n"
   ]
  },
  {
   "cell_type": "code",
   "execution_count": 15,
   "id": "e65a0adc-4bb2-494f-84dc-fa8ee83d758c",
   "metadata": {},
   "outputs": [
    {
     "name": "stdout",
     "output_type": "stream",
     "text": [
      "PI\n"
     ]
    }
   ],
   "source": [
    "df_grouped_estate = df_grouped_clean_final.groupby('Estado')\n",
    "df_grouped_estate_final = df_grouped_estate['Salário'].mean().sort_values(ascending = False).idxmax()\n",
    "print(df_grouped_estate_final)"
   ]
  },
  {
   "cell_type": "markdown",
   "id": "66688976-1258-48df-ae41-c274b286d4a2",
   "metadata": {},
   "source": [
    "### Pergunta 5:\n",
    "Qual é a distribuição da idade dos clientes? Utilize bins=30"
   ]
  },
  {
   "cell_type": "code",
   "execution_count": 16,
   "id": "b389fe18-5a4a-4d04-92d6-e7f46c93767b",
   "metadata": {},
   "outputs": [
    {
     "data": {
      "image/png": "[encoded data removed]",
      "text/plain": [
       "<Figure size 800x500 with 1 Axes>"
      ]
     },
     "metadata": {},
     "output_type": "display_data"
    }
   ],
   "source": [
    "plt.figure(figsize=(8, 5))\n",
    "plt.hist(df_grouped_clean_final['Idade'], bins=30, color='skyblue', edgecolor='black')\n",
    "\n",
    "plt.title('Distribuição da Idade dos Clientes')\n",
    "plt.xlabel('Idade')\n",
    "plt.ylabel('Número de Clientes')\n",
    "\n",
    "plt.show()"
   ]
  },
  {
   "cell_type": "markdown",
   "id": "e9aa8114-ab89-4c22-9741-9d2267ea47c1",
   "metadata": {},
   "source": [
    "### Pergunta 6:\n",
    "Qual é a proporção de clientes com tatuagens e piercings?"
   ]
  },
  {
   "cell_type": "code",
   "execution_count": 17,
   "id": "13de9af3-9caa-406c-a1f2-ae31d3d68d8f",
   "metadata": {},
   "outputs": [
    {
     "name": "stdout",
     "output_type": "stream",
     "text": [
      "Proporção de clientes com tatuagens:  0.83\n"
     ]
    }
   ],
   "source": [
    "df_prop_tatuagens = (df_grouped_clean_final['Tatuagens'] >=1).mean()\n",
    "print('Proporção de clientes com tatuagens: ', round(df_prop_tatuagens, 2))"
   ]
  },
  {
   "cell_type": "code",
   "execution_count": 18,
   "id": "91ff7352-43fa-44ce-a6b5-f2e6d38b3874",
   "metadata": {},
   "outputs": [
    {
     "name": "stdout",
     "output_type": "stream",
     "text": [
      "Proporção de clientes com piercings:  0.75\n"
     ]
    }
   ],
   "source": [
    "df_prop_piercings = (df_grouped_clean_final['Piercings'] >=1).mean()\n",
    "print('Proporção de clientes com piercings: ', round(df_prop_piercings, 2))"
   ]
  },
  {
   "cell_type": "markdown",
   "id": "3fab5545-ec2c-44ab-92a7-64adf7ef95fc",
   "metadata": {},
   "source": [
    "### Pergunta 7:\n",
    "Qual é o estado com a maior proporção de salários acima de 5000 reais entre os clientes?"
   ]
  },
  {
   "cell_type": "code",
   "execution_count": 19,
   "id": "ecc5ad91-adba-4ec1-8bdc-0cb3e59d1162",
   "metadata": {},
   "outputs": [
    {
     "name": "stdout",
     "output_type": "stream",
     "text": [
      "PI\n"
     ]
    }
   ],
   "source": [
    "df_prop_estate = df_grouped_clean_final.groupby('Estado')['Salário'].apply(lambda x: (x > 5000).mean()).idxmax()\n",
    "print(df_prop_estate)"
   ]
  },
  {
   "cell_type": "markdown",
   "id": "c7904b00-6c76-436d-9783-16a40296db75",
   "metadata": {},
   "source": [
    "### Pergunta 8:\n",
    "Qual é a quantidade de pessoas que possuem tipo de sangue O+ e que possuem filhos?"
   ]
  },
  {
   "cell_type": "code",
   "execution_count": 20,
   "id": "61a78e88-5b25-4861-b5af-9ac3e7afafb2",
   "metadata": {},
   "outputs": [
    {
     "name": "stdout",
     "output_type": "stream",
     "text": [
      "332\n"
     ]
    }
   ],
   "source": [
    "df_calc_blood_type = df_grouped_clean_final[(df_grouped_clean_final['Tipo Sanguíneo'] == 'O+') & (df_grouped_clean_final['Tem Filhos'] == 'Sim')]\n",
    "print(df_calc_blood_type.shape[0])"
   ]
  },
  {
   "cell_type": "markdown",
   "id": "22aaafe9-23c8-4e45-aa01-b72729050094",
   "metadata": {},
   "source": [
    "### Pergunta 9:\n",
    "Qual é a média de altura para as pessoas que residem no estado de MG, são solteiras e possuem filhos?"
   ]
  },
  {
   "cell_type": "code",
   "execution_count": 21,
   "id": "b6acc494-11c0-4c10-ab98-88cf24f96876",
   "metadata": {},
   "outputs": [
    {
     "name": "stdout",
     "output_type": "stream",
     "text": [
      "175.42\n"
     ]
    }
   ],
   "source": [
    "df_calc_high = df_grouped_clean_final[(df_grouped_clean_final['Estado'] == 'MG') & \n",
    "                                      (df_grouped_clean_final['Estado Civil'] == 'Solteiro') & \n",
    "                                      (df_grouped_clean_final['Tem Filhos'] == 'Sim')]\n",
    "print(round(df_calc_high['Altura (cm)'].mean(), 2))"
   ]
  },
  {
   "cell_type": "markdown",
   "id": "10692401-7f75-406f-b84c-c19cb78a7d4d",
   "metadata": {},
   "source": [
    "### Pergunta 10:\n",
    "Qual é a média de idade das pessoas com mais de três cartões de crédito?"
   ]
  },
  {
   "cell_type": "code",
   "execution_count": 22,
   "id": "788bd1d8-7a59-4124-aba6-da72770a3f46",
   "metadata": {},
   "outputs": [
    {
     "name": "stdout",
     "output_type": "stream",
     "text": [
      "49.0\n"
     ]
    }
   ],
   "source": [
    "df_calc_mean_credit_card = df_grouped_clean_final[(df_grouped_clean_final['Número de Cartões de Crédito'] >= 3)]\n",
    "print(round(df_calc_mean_credit_card['Idade'].mean(), 0))"
   ]
  },
  {
   "cell_type": "markdown",
   "id": "bbaef7ef-b70f-4bb1-9ad4-56889741cfa2",
   "metadata": {},
   "source": [
    "### Pergunta 11:\n",
    "Crie um boxplot dos salários de todas as pessoas que possuem escolaridade superior. Em seguida, escolha a melhor representação gráfica."
   ]
  },
  {
   "cell_type": "code",
   "execution_count": 23,
   "id": "17008eb7-715c-45cd-9037-a673b81bfacb",
   "metadata": {},
   "outputs": [
    {
     "data": {
      "image/png": "[encoded data removed]",
      "text/plain": [
       "<Figure size 640x480 with 1 Axes>"
      ]
     },
     "metadata": {},
     "output_type": "display_data"
    }
   ],
   "source": [
    "\n",
    "df_calc_sal_superior = df_grouped_clean_final[(df_grouped_clean_final['Escolaridade'] == 'Superior')]\n",
    "df_calc_sal_superior_final = df_calc_sal_superior['Salário']\n",
    "df = pd.DataFrame(df_calc_sal_superior_final)\n",
    "sns.boxplot(x='Salário', data=df)\n",
    "\n",
    "# Adicionando título\n",
    "plt.title('Boxplot de Categorias')\n",
    "\n",
    "# Exibindo o gráfico\n",
    "plt.show()"
   ]
  }
 ],
 "metadata": {
  "kernelspec": {
   "display_name": "desafio_final",
   "language": "python",
   "name": "desafio_final"
  },
  "language_info": {
   "codemirror_mode": {
    "name": "ipython",
    "version": 3
   },
   "file_extension": ".py",
   "mimetype": "text/x-python",
   "name": "python",
   "nbconvert_exporter": "python",
   "pygments_lexer": "ipython3",
   "version": "3.12.4"
  }
 },
 "nbformat": 4,
 "nbformat_minor": 5
}
