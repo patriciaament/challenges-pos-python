{
 "cells": [
  {
   "cell_type": "markdown",
   "id": "66ee8fb0-db76-489f-87ec-18a344d7072f",
   "metadata": {},
   "source": [
    "# Projeto: Machine Learning\n",
    "<hr>\n",
    "\n",
    "#### Respondendo a perguntas do desafio final a partir da exploração de dados e testes em modelo de machine learning proposto<br>"
   ]
  },
  {
   "cell_type": "code",
   "execution_count": 1,
   "id": "9a33d880-a4bf-4841-9473-504630300af9",
   "metadata": {},
   "outputs": [],
   "source": [
    "import pandas as pd"
   ]
  },
  {
   "cell_type": "markdown",
   "id": "5437c2b3-e620-4d7d-b12d-0a000224725d",
   "metadata": {},
   "source": [
    "> #### Iniciando exploração do dataset"
   ]
  },
  {
   "cell_type": "code",
   "execution_count": 2,
   "id": "3ab77b8b-bb7b-4304-a527-ecf447814cb1",
   "metadata": {},
   "outputs": [],
   "source": [
    "df = pd.read_csv(\"Salary.csv\")"
   ]
  },
  {
   "cell_type": "code",
   "execution_count": 3,
   "id": "c82ea74f-fbd5-419f-aec5-4819dc581988",
   "metadata": {},
   "outputs": [
    {
     "data": {
      "text/html": [
       "<div>\n",
       "<style scoped>\n",
       "    .dataframe tbody tr th:only-of-type {\n",
       "        vertical-align: middle;\n",
       "    }\n",
       "\n",
       "    .dataframe tbody tr th {\n",
       "        vertical-align: top;\n",
       "    }\n",
       "\n",
       "    .dataframe thead th {\n",
       "        text-align: right;\n",
       "    }\n",
       "</style>\n",
       "<table border=\"1\" class=\"dataframe\">\n",
       "  <thead>\n",
       "    <tr style=\"text-align: right;\">\n",
       "      <th></th>\n",
       "      <th>YearsExperience</th>\n",
       "      <th>Salary</th>\n",
       "    </tr>\n",
       "  </thead>\n",
       "  <tbody>\n",
       "    <tr>\n",
       "      <th>0</th>\n",
       "      <td>1.1</td>\n",
       "      <td>39343</td>\n",
       "    </tr>\n",
       "    <tr>\n",
       "      <th>1</th>\n",
       "      <td>1.3</td>\n",
       "      <td>46205</td>\n",
       "    </tr>\n",
       "    <tr>\n",
       "      <th>2</th>\n",
       "      <td>1.5</td>\n",
       "      <td>37731</td>\n",
       "    </tr>\n",
       "    <tr>\n",
       "      <th>3</th>\n",
       "      <td>2.0</td>\n",
       "      <td>43525</td>\n",
       "    </tr>\n",
       "    <tr>\n",
       "      <th>4</th>\n",
       "      <td>2.2</td>\n",
       "      <td>39891</td>\n",
       "    </tr>\n",
       "  </tbody>\n",
       "</table>\n",
       "</div>"
      ],
      "text/plain": [
       "   YearsExperience  Salary\n",
       "0              1.1   39343\n",
       "1              1.3   46205\n",
       "2              1.5   37731\n",
       "3              2.0   43525\n",
       "4              2.2   39891"
      ]
     },
     "execution_count": 3,
     "metadata": {},
     "output_type": "execute_result"
    }
   ],
   "source": [
    "df.head()"
   ]
  },
  {
   "cell_type": "code",
   "execution_count": 4,
   "id": "55ac590c-b9ec-4bda-a206-5c3f76ac884d",
   "metadata": {},
   "outputs": [
    {
     "data": {
      "text/plain": [
       "YearsExperience    0\n",
       "Salary             0\n",
       "dtype: int64"
      ]
     },
     "execution_count": 4,
     "metadata": {},
     "output_type": "execute_result"
    }
   ],
   "source": [
    "df.isna().sum()"
   ]
  },
  {
   "cell_type": "markdown",
   "id": "218be4cb-c543-4655-903c-1abbb14be99e",
   "metadata": {},
   "source": [
    "### Pergunta 1:\n",
    "Qual a dimensão (Número Linhas, Número colunas) do dataset utilizado no treinamento?"
   ]
  },
  {
   "cell_type": "code",
   "execution_count": 5,
   "id": "998ed315-4754-41f7-ba80-8032d444f065",
   "metadata": {},
   "outputs": [
    {
     "data": {
      "text/plain": [
       "(35, 2)"
      ]
     },
     "execution_count": 5,
     "metadata": {},
     "output_type": "execute_result"
    }
   ],
   "source": [
    "df.shape"
   ]
  },
  {
   "cell_type": "markdown",
   "id": "71458003-c056-409a-9d76-bb87fc898814",
   "metadata": {},
   "source": [
    "### Pergunta 2:\n",
    "Baseado no dataset utilizado para treinamento, qual a média da coluna YearsExperience? Considere 2 casas decimais na sua resposta."
   ]
  },
  {
   "cell_type": "code",
   "execution_count": 6,
   "id": "9265999e-ba24-4de0-9d37-dde8dd50140f",
   "metadata": {},
   "outputs": [
    {
     "name": "stdout",
     "output_type": "stream",
     "text": [
      "6.31\n"
     ]
    }
   ],
   "source": [
    "mean_years = df[\"YearsExperience\"].mean()\n",
    "print(round(mean_years,2))"
   ]
  },
  {
   "cell_type": "markdown",
   "id": "0c0e99e6-814d-4fe5-979c-6de80558b792",
   "metadata": {},
   "source": [
    "### Pergunta 3:\n",
    "Baseado no dataset utilizado para treinamento, qual a média da coluna Salary? Considere 2 casas decimais na sua resposta."
   ]
  },
  {
   "cell_type": "code",
   "execution_count": 7,
   "id": "eb9fd19f-5152-472e-97a8-041a5e83fb4e",
   "metadata": {},
   "outputs": [
    {
     "name": "stdout",
     "output_type": "stream",
     "text": [
      "83945.6\n"
     ]
    }
   ],
   "source": [
    "mean_salary = df[\"Salary\"].mean()\n",
    "print(round(mean_salary,2))"
   ]
  },
  {
   "cell_type": "markdown",
   "id": "a6a0a9f4-4500-4bb9-ad6e-ff17750daf90",
   "metadata": {},
   "source": [
    "### Pergunta 4:\n",
    "Baseado no dataset utilizado para treinamento, qual o valor da maior razão Salary/YearsExperience? Considere 2 casas decimais na sua resposta."
   ]
  },
  {
   "cell_type": "code",
   "execution_count": 8,
   "id": "b4e1e92e-3f24-4f4e-a98a-1a42d50a8463",
   "metadata": {},
   "outputs": [
    {
     "name": "stdout",
     "output_type": "stream",
     "text": [
      "35766.36\n"
     ]
    }
   ],
   "source": [
    "df[\"reason\"] = df[\"Salary\"]/df[\"YearsExperience\"]\n",
    "calc_max_reason = df[\"reason\"].max()\n",
    "print(round(calc_max_reason,2))"
   ]
  },
  {
   "cell_type": "markdown",
   "id": "cb016e0a-a6bc-4a53-b1ac-449920a940ff",
   "metadata": {},
   "source": [
    "### Pergunta 5:\n",
    "Baseado no dataset utilizado para treinamento, qual o valor da menor razão Salary/YearsExperience? Considere 2 casas decimais na sua resposta."
   ]
  },
  {
   "cell_type": "code",
   "execution_count": 9,
   "id": "500b3b74-f170-4fe2-ac62-ca6f877b6c2a",
   "metadata": {},
   "outputs": [
    {
     "name": "stdout",
     "output_type": "stream",
     "text": [
      "10330.74\n"
     ]
    }
   ],
   "source": [
    "df[\"reason\"] = df[\"Salary\"]/df[\"YearsExperience\"]\n",
    "calc_min_reason = df[\"reason\"].min()\n",
    "print(round(calc_min_reason, 2))"
   ]
  },
  {
   "cell_type": "markdown",
   "id": "e595f7fb-6daf-4383-8db9-cc811bee7c11",
   "metadata": {},
   "source": [
    "### Pergunta 6:\n",
    "Baseado no dataset utilizado para treinamento, quantos anos de experiência tem a pessoa com o maior valor de razão Salary/YearsExperience?"
   ]
  },
  {
   "cell_type": "code",
   "execution_count": 10,
   "id": "8406d17d-7fad-41cd-a27b-98a02f87cb75",
   "metadata": {},
   "outputs": [
    {
     "name": "stdout",
     "output_type": "stream",
     "text": [
      "YearsExperience        1.100000\n",
      "Salary             39343.000000\n",
      "reason             35766.363636\n",
      "Name: 0, dtype: float64\n"
     ]
    }
   ],
   "source": [
    "index_max_reason = df[\"reason\"].idxmax()\n",
    "print(df.loc[index_max_reason])"
   ]
  },
  {
   "cell_type": "markdown",
   "id": "5b80e4ea-3cee-4445-af79-ddfe52b7711c",
   "metadata": {},
   "source": [
    "### Pergunta 7:\n",
    "Baseado no dataset utilizado para treinamento, quantos anos de experiência tem a pessoa com o menor valor de razão Salary/YearsExperience?"
   ]
  },
  {
   "cell_type": "code",
   "execution_count": 11,
   "id": "8c6e81ef-81c2-4e67-9d5c-a983884064be",
   "metadata": {},
   "outputs": [
    {
     "name": "stdout",
     "output_type": "stream",
     "text": [
      "YearsExperience        13.500000\n",
      "Salary             139465.000000\n",
      "reason              10330.740741\n",
      "Name: 34, dtype: float64\n"
     ]
    }
   ],
   "source": [
    "index_min_reason = df[\"reason\"].idxmin()\n",
    "print(df.loc[index_min_reason])"
   ]
  }
 ],
 "metadata": {
  "kernelspec": {
   "display_name": "trabalho_pratico3",
   "language": "python",
   "name": "trabalho_pratico3"
  },
  "language_info": {
   "codemirror_mode": {
    "name": "ipython",
    "version": 3
   },
   "file_extension": ".py",
   "mimetype": "text/x-python",
   "name": "python",
   "nbconvert_exporter": "python",
   "pygments_lexer": "ipython3",
   "version": "3.13.0"
  }
 },
 "nbformat": 4,
 "nbformat_minor": 5
}
